{
 "cells": [
  {
   "cell_type": "markdown",
   "id": "7de8a0e8-2512-43e5-a996-67f5799ead99",
   "metadata": {},
   "source": [
    "# 0. Importing packages"
   ]
  },
  {
   "cell_type": "code",
   "execution_count": null,
   "id": "f7380464-e0cf-4461-b94b-c710ba6c747c",
   "metadata": {},
   "outputs": [],
   "source": [
    "from scipy.optimize import differential_evolution\n",
    "import numpy as np\n",
    "from matplotlib import pyplot as plt\n",
    "\n",
    "from packages.functions import calcL1MET\n",
    "import optimisation_2024 as opt"
   ]
  },
  {
   "cell_type": "markdown",
   "id": "c3f304b1-b3b8-461b-8201-f44909c32b07",
   "metadata": {},
   "source": [
    "# 1. Loading data"
   ]
  },
  {
   "cell_type": "code",
   "execution_count": null,
   "id": "fbb49c18",
   "metadata": {},
   "outputs": [],
   "source": [
    "data2024 = \"/shared/scratch/wq22321/data/NANOAOD_Muon0Run2023D_ZMu_PromptReco_v2RAW_RECO_2023_v0_4/231121_100830/0000/out_10.root\""
   ]
  },
  {
   "cell_type": "code",
   "execution_count": null,
   "id": "969b101b",
   "metadata": {},
   "outputs": [],
   "source": [
    "fit, valid = opt.prepareInputs(dir = data2024, subset=0.7, cuts=(0, 250))"
   ]
  },
  {
   "cell_type": "markdown",
   "id": "d506e836-221f-456b-88e3-3e6bfe21948e",
   "metadata": {},
   "source": [
    "# 2. Optimisation"
   ]
  },
  {
   "cell_type": "code",
   "execution_count": null,
   "id": "e3ab37a5-7818-49d4-a5a4-d04556013178",
   "metadata": {
    "scrolled": true
   },
   "outputs": [],
   "source": [
    "print(\"Starting optimisation\")\n",
    "\n",
    "bounds = [(0, 3), (0, 4), (0, 3), (0, 4)]\n",
    "x0 = (2.0, 2.0, 0.5, 2.0)\n",
    "turn_on_options = (True, 80, 0.05)\n",
    "result = differential_evolution(\n",
    "    func     = opt.objective,\n",
    "    bounds   = bounds,\n",
    "    args     = (fit, turn_on_options),\n",
    "    \n",
    "    x0 = x0,\n",
    "    popsize  = 15,    # 15\n",
    "    maxiter  = 10,    # 1000\n",
    "    strategy = \"best1bin\",    # \"best1bin\"\n",
    "    init     = \"sobol\",    #\"latinhypercube\"\n",
    "    disp     = True,\n",
    "    workers  = -1,    # 1\n",
    "    polish   = False\n",
    "    )\n",
    "\n",
    "print(result.x)\n",
    "print(result)"
   ]
  },
  {
   "cell_type": "code",
   "execution_count": null,
   "id": "6211b389",
   "metadata": {},
   "outputs": [],
   "source": [
    "result.x"
   ]
  },
  {
   "cell_type": "markdown",
   "id": "e1fd64be-2dda-42d8-9a86-b7300f1dd59c",
   "metadata": {},
   "source": [
    "# 3. Parameter analysis"
   ]
  },
  {
   "cell_type": "code",
   "execution_count": null,
   "id": "9c6693fb-468c-4d09-91f9-2e533853d4c7",
   "metadata": {},
   "outputs": [],
   "source": [
    "def heatmapper(a, b, c, d):\n",
    "    dat = lookup_gen(a, b, c, d)\n",
    "    ietas, pu_bins, thresh = zip(*dat)\n",
    "    plt.figure(figsize=(15,9))\n",
    "    plt.hist2d(ietas, pu_bins, weights=thresh, bins=[83, 32])\n",
    "    plt.colorbar()\n",
    "    #plt.xlim([1,41]); plt.ylim([0,31])\n",
    "    plt.xlabel(\"ieta\"); plt.ylabel(\"NTT4 bin\")\n",
    "    plt.title(\"2D histogram of tower threshold (scaled by tower size)\")\n",
    "    plt.show()"
   ]
  },
  {
   "cell_type": "code",
   "execution_count": null,
   "id": "f22a3277-9f2c-4915-9d9e-77ab0dafed51",
   "metadata": {},
   "outputs": [],
   "source": [
    "def lookup_gen(a, b, c, d):\n",
    "    \n",
    "    all_ieta_vals = np.linspace(-41, 41, 83)\n",
    "    all_pu_bins = np.linspace(0, 31, 32)\n",
    "    \n",
    "    res = []\n",
    "    for ieta in all_ieta_vals:\n",
    "        for pu_bin in all_pu_bins:\n",
    "            thresh = threshold_calc(ieta, pu_bin, a, b, c, d)\n",
    "            res.append((ieta, pu_bin, thresh))\n",
    "            \n",
    "    return res"
   ]
  },
  {
   "cell_type": "code",
   "execution_count": null,
   "id": "3e0e57a5-99e6-43b1-9bb4-ac66b6e21bc6",
   "metadata": {},
   "outputs": [],
   "source": [
    "def threshold_calc(ieta, ntt4, a, b, c, d):\n",
    "    towerAreas = [    0., # dummy for ieta=0\n",
    "                  1.,1.,1.,1.,1.,1.,1.,1.,1.,1.,\n",
    "                  1.,1.,1.,1.,1.,1.,1.,1.,1.,1.,\n",
    "                  1.03,1.15,1.3,1.48,1.72,2.05,1.72,4.02,\n",
    "                  0., # dummy for ieta=29\n",
    "                  3.29,2.01,2.02,2.01,2.02,2.0,2.03,1.99,2.02,2.04,2.00,3.47]\n",
    "    \n",
    "    numerator = (towerAreas[int(abs(ieta))]**a) * (ntt4**c)\n",
    "    denominator = d * (1 + np.exp(-b * (abs(ieta))))\n",
    "    \n",
    "    threshold = (numerator / denominator).clip(max=40)\n",
    "#    return (threshold/2)# / towerAreas[int(abs(ieta))]\n",
    "    if towerAreas[int(abs(ieta))] == 0:\n",
    "        return np.nan\n",
    "    else:\n",
    "        return (threshold/2)# / towerAreas[int(abs(ieta))]"
   ]
  },
  {
   "cell_type": "code",
   "execution_count": null,
   "id": "a176dacc-5343-4e0f-b918-3823caa6fe54",
   "metadata": {},
   "outputs": [],
   "source": [
    "fw = (0.66881105, 1.77791976, 0.96226907, 2.08912586)\n",
    "reg = (0.21456065, 2.74961211, 0.47896413, 0.30650943)\n",
    "old = (1.707, 3.078, 0.195, 1.365)\n",
    "\n",
    "quick = (2.49418849, 3.06860578, 0.22999811, 3.75036927)\n",
    "quick2 = (0.4785183 , 2.95870881, 0.19865517, 1.69915227)\n",
    "\n",
    "zmu23_1 = (1.87, 1.34, 0.1, 2.84)\n",
    "zmu23_2 = (1.49, 2.91, 0.26, 1.51)\n",
    "zmu23_3 = (2.34, 2.82, 0.37, 2.79)"
   ]
  },
  {
   "cell_type": "code",
   "execution_count": null,
   "id": "9027b56a-fdf9-4b4b-8534-8baa4ea4f1ed",
   "metadata": {},
   "outputs": [],
   "source": [
    "heatmapper(*quick2)"
   ]
  },
  {
   "cell_type": "code",
   "execution_count": null,
   "id": "aeb9e2c5-a874-47a3-b8ef-929782eb67d7",
   "metadata": {},
   "outputs": [],
   "source": [
    "valid_calo, valid_puppi, valid_ntt4 = valid"
   ]
  },
  {
   "cell_type": "code",
   "execution_count": null,
   "id": "6ce50c79-8192-4844-a4e2-9ca885523588",
   "metadata": {},
   "outputs": [],
   "source": [
    "MET = opt.applyCaloTowerThresh(valid_calo, *quick2)[0]"
   ]
  },
  {
   "cell_type": "code",
   "execution_count": null,
   "id": "e227b169-a911-4ef6-9f44-f4c0055bae49",
   "metadata": {},
   "outputs": [],
   "source": [
    "l1met = calcL1MET(valid_calo)"
   ]
  },
  {
   "cell_type": "code",
   "execution_count": null,
   "id": "b7f8238b-6284-4629-89c7-47786f61913f",
   "metadata": {},
   "outputs": [],
   "source": [
    "def getTurnOn( online, offline, threshold=80 ) :\n",
    "    offline_bins = np.linspace(0, 300, 40)\n",
    "    efficiency = []\n",
    "\n",
    "\n",
    "    for i in range(len(offline_bins) - 1):\n",
    "        # Define the offline range for this bin\n",
    "        offline_range = (offline >= offline_bins[i]) & (offline < offline_bins[i + 1])\n",
    "        # count the number of events passing the threshold in the offline range\n",
    "        num_offline = sum(offline_range)\n",
    "        # count the number of events passing the threshold in both online and offline ranges\n",
    "        num_both = sum((online > threshold) & offline_range)\n",
    "        # calculate the efficiency as the ratio of online events passing the cut over offline events passing the threshold\n",
    "        if num_offline > 0:\n",
    "            eff = num_both / num_offline\n",
    "        else:\n",
    "            eff = 0\n",
    "        efficiency.append(eff)\n",
    "\n",
    "    bin_centers = (offline_bins[:-1] + offline_bins[1:]) / 2\n",
    "\n",
    "    return bin_centers, efficiency"
   ]
  },
  {
   "cell_type": "code",
   "execution_count": null,
   "id": "5ce8819b-dfef-4d79-b88e-2822b7094076",
   "metadata": {},
   "outputs": [],
   "source": [
    "bins, turnon = getTurnOn(MET, valid_puppi)"
   ]
  },
  {
   "cell_type": "code",
   "execution_count": null,
   "id": "07b584f1-8b27-48c6-be63-77b0671168a7",
   "metadata": {},
   "outputs": [],
   "source": [
    "_, turnon_noPU = getTurnOn(l1met, valid_puppi)"
   ]
  },
  {
   "cell_type": "code",
   "execution_count": null,
   "id": "d2ab3a8a-ae4e-4f92-934b-b99b216720e6",
   "metadata": {},
   "outputs": [],
   "source": [
    "plt.figure(figsize=(10,6))\n",
    "\n",
    "plt.plot(bins, turnon, label=\"With PU sup\")\n",
    "plt.plot(_, turnon_noPU, label = \"No PU sup\")\n",
    "\n",
    "plt.grid(True, linestyle='--', color='gray', alpha=0.5)\n",
    "plt.hlines(0.95, xmin=0, xmax=300, colors='gray', linestyles='--', alpha=0.5)\n",
    "plt.legend()\n",
    "plt.show()"
   ]
  }
 ],
 "metadata": {
  "kernelspec": {
   "display_name": "Python 3 (ipykernel)",
   "language": "python",
   "name": "python3"
  },
  "language_info": {
   "codemirror_mode": {
    "name": "ipython",
    "version": 3
   },
   "file_extension": ".py",
   "mimetype": "text/x-python",
   "name": "python",
   "nbconvert_exporter": "python",
   "pygments_lexer": "ipython3",
   "version": "3.9.12"
  }
 },
 "nbformat": 4,
 "nbformat_minor": 5
}
