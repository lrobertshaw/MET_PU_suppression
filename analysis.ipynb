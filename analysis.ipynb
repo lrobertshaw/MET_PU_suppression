{
 "cells": [
  {
   "cell_type": "markdown",
   "id": "7de8a0e8-2512-43e5-a996-67f5799ead99",
   "metadata": {},
   "source": [
    "# 0. Importing packages"
   ]
  },
  {
   "cell_type": "code",
   "execution_count": 1,
   "id": "f7380464-e0cf-4461-b94b-c710ba6c747c",
   "metadata": {},
   "outputs": [
    {
     "name": "stdout",
     "output_type": "stream",
     "text": [
      "Importing packages\n"
     ]
    }
   ],
   "source": [
    "from scipy.optimize import differential_evolution\n",
    "import numpy as np\n",
    "from matplotlib import pyplot as plt\n",
    "\n",
    "from packages.functions import calcL1MET, cache\n",
    "import optimisation as opt"
   ]
  },
  {
   "cell_type": "markdown",
   "id": "c3f304b1-b3b8-461b-8201-f44909c32b07",
   "metadata": {},
   "source": [
    "# 1. Loading data"
   ]
  },
  {
   "cell_type": "code",
   "execution_count": 24,
   "id": "969b101b",
   "metadata": {},
   "outputs": [
    {
     "name": "stdout",
     "output_type": "stream",
     "text": [
      "Reading in calo tower data\n",
      "Reading in PUPPI MET pT and phi\n",
      "Calculating x and y components of PUPPI MET\n",
      "Reading in muon pT and phi\n",
      "Calculating muon ptx and pty for each event\n",
      "Calculating PUPPI MET no Mu and reformatting data\n"
     ]
    },
    {
     "name": "stderr",
     "output_type": "stream",
     "text": [
      "/users/wq22321/methackathon_2024/packages/functions.py:114: SettingWithCopyWarning: \n",
      "A value is trying to be set on a copy of a slice from a DataFrame.\n",
      "Try using .loc[row_indexer,col_indexer] = value instead\n",
      "\n",
      "See the caveats in the documentation: https://pandas.pydata.org/pandas-docs/stable/user_guide/indexing.html#returning-a-view-versus-a-copy\n",
      "  pfcand_muons['muon_ptx'] = np.cos(pfcand_muons['Muon_phi']) * pfcand_muons['Muon_pt']\n",
      "/users/wq22321/methackathon_2024/packages/functions.py:115: SettingWithCopyWarning: \n",
      "A value is trying to be set on a copy of a slice from a DataFrame.\n",
      "Try using .loc[row_indexer,col_indexer] = value instead\n",
      "\n",
      "See the caveats in the documentation: https://pandas.pydata.org/pandas-docs/stable/user_guide/indexing.html#returning-a-view-versus-a-copy\n",
      "  pfcand_muons['muon_pty'] = np.sin(pfcand_muons['Muon_phi']) * pfcand_muons['Muon_pt']\n"
     ]
    },
    {
     "name": "stdout",
     "output_type": "stream",
     "text": [
      "Subsetting events\n",
      "Calculating NTT4\n"
     ]
    }
   ],
   "source": [
    "data2024 = \"/shared/scratch/wq22321/data/NANOAOD_Muon0Run2023D_ZMu_PromptReco_v2RAW_RECO_2023_v0_4/231121_100830/0000/out_*.root\"\n",
    "fit, _ = opt.prepareInputs(dir = data2024, subset=1.0, cuts=(0, 300))"
   ]
  },
  {
   "cell_type": "code",
   "execution_count": 25,
   "id": "67815d08",
   "metadata": {},
   "outputs": [],
   "source": [
    "calo, puppi, ntt4 = fit"
   ]
  },
  {
   "cell_type": "code",
   "execution_count": 4,
   "id": "04f2c07f",
   "metadata": {},
   "outputs": [
    {
     "name": "stdout",
     "output_type": "stream",
     "text": [
      "Writing calo to /shared/scratch/wq22321/cached_MET_data/calo.csv\n"
     ]
    },
    {
     "name": "stdout",
     "output_type": "stream",
     "text": [
      "Writing puppi to /shared/scratch/wq22321/cached_MET_data/puppi.csv\n",
      "Writing ntt4 to /shared/scratch/wq22321/cached_MET_data/ntt4.csv\n"
     ]
    }
   ],
   "source": [
    "cache(mode=\"write\", datCollection=fit)"
   ]
  },
  {
   "cell_type": "code",
   "execution_count": 5,
   "id": "d8e15a90",
   "metadata": {},
   "outputs": [],
   "source": [
    "calo, puppi, ntt4 = cache(mode=\"read\")"
   ]
  },
  {
   "cell_type": "code",
   "execution_count": 10,
   "id": "9c87bc28",
   "metadata": {},
   "outputs": [
    {
     "data": {
      "text/html": [
       "<div>\n",
       "<style scoped>\n",
       "    .dataframe tbody tr th:only-of-type {\n",
       "        vertical-align: middle;\n",
       "    }\n",
       "\n",
       "    .dataframe tbody tr th {\n",
       "        vertical-align: top;\n",
       "    }\n",
       "\n",
       "    .dataframe thead th {\n",
       "        text-align: right;\n",
       "    }\n",
       "</style>\n",
       "<table border=\"1\" class=\"dataframe\">\n",
       "  <thead>\n",
       "    <tr style=\"text-align: right;\">\n",
       "      <th></th>\n",
       "      <th>ntt4</th>\n",
       "    </tr>\n",
       "  </thead>\n",
       "  <tbody>\n",
       "    <tr>\n",
       "      <th>0</th>\n",
       "      <td>17.0</td>\n",
       "    </tr>\n",
       "    <tr>\n",
       "      <th>1</th>\n",
       "      <td>22.0</td>\n",
       "    </tr>\n",
       "    <tr>\n",
       "      <th>2</th>\n",
       "      <td>14.0</td>\n",
       "    </tr>\n",
       "    <tr>\n",
       "      <th>3</th>\n",
       "      <td>16.0</td>\n",
       "    </tr>\n",
       "    <tr>\n",
       "      <th>4</th>\n",
       "      <td>15.0</td>\n",
       "    </tr>\n",
       "    <tr>\n",
       "      <th>...</th>\n",
       "      <td>...</td>\n",
       "    </tr>\n",
       "    <tr>\n",
       "      <th>5301</th>\n",
       "      <td>22.0</td>\n",
       "    </tr>\n",
       "    <tr>\n",
       "      <th>5302</th>\n",
       "      <td>12.0</td>\n",
       "    </tr>\n",
       "    <tr>\n",
       "      <th>5303</th>\n",
       "      <td>14.0</td>\n",
       "    </tr>\n",
       "    <tr>\n",
       "      <th>5304</th>\n",
       "      <td>17.0</td>\n",
       "    </tr>\n",
       "    <tr>\n",
       "      <th>5305</th>\n",
       "      <td>12.0</td>\n",
       "    </tr>\n",
       "  </tbody>\n",
       "</table>\n",
       "<p>5306 rows × 1 columns</p>\n",
       "</div>"
      ],
      "text/plain": [
       "      ntt4\n",
       "0     17.0\n",
       "1     22.0\n",
       "2     14.0\n",
       "3     16.0\n",
       "4     15.0\n",
       "...    ...\n",
       "5301  22.0\n",
       "5302  12.0\n",
       "5303  14.0\n",
       "5304  17.0\n",
       "5305  12.0\n",
       "\n",
       "[5306 rows x 1 columns]"
      ]
     },
     "execution_count": 10,
     "metadata": {},
     "output_type": "execute_result"
    }
   ],
   "source": [
    "ntt4"
   ]
  },
  {
   "cell_type": "code",
   "execution_count": 14,
   "id": "c02ebd45",
   "metadata": {},
   "outputs": [
    {
     "data": {
      "text/html": [
       "<div>\n",
       "<style scoped>\n",
       "    .dataframe tbody tr th:only-of-type {\n",
       "        vertical-align: middle;\n",
       "    }\n",
       "\n",
       "    .dataframe tbody tr th {\n",
       "        vertical-align: top;\n",
       "    }\n",
       "\n",
       "    .dataframe thead th {\n",
       "        text-align: right;\n",
       "    }\n",
       "</style>\n",
       "<table border=\"1\" class=\"dataframe\">\n",
       "  <thead>\n",
       "    <tr style=\"text-align: right;\">\n",
       "      <th></th>\n",
       "      <th>puppi_MetNoMu</th>\n",
       "    </tr>\n",
       "  </thead>\n",
       "  <tbody>\n",
       "    <tr>\n",
       "      <th>0</th>\n",
       "      <td>30.955175</td>\n",
       "    </tr>\n",
       "    <tr>\n",
       "      <th>1</th>\n",
       "      <td>74.999069</td>\n",
       "    </tr>\n",
       "    <tr>\n",
       "      <th>2</th>\n",
       "      <td>11.730311</td>\n",
       "    </tr>\n",
       "    <tr>\n",
       "      <th>3</th>\n",
       "      <td>22.371643</td>\n",
       "    </tr>\n",
       "    <tr>\n",
       "      <th>4</th>\n",
       "      <td>29.721386</td>\n",
       "    </tr>\n",
       "    <tr>\n",
       "      <th>...</th>\n",
       "      <td>...</td>\n",
       "    </tr>\n",
       "    <tr>\n",
       "      <th>5301</th>\n",
       "      <td>58.730568</td>\n",
       "    </tr>\n",
       "    <tr>\n",
       "      <th>5302</th>\n",
       "      <td>50.574310</td>\n",
       "    </tr>\n",
       "    <tr>\n",
       "      <th>5303</th>\n",
       "      <td>62.798317</td>\n",
       "    </tr>\n",
       "    <tr>\n",
       "      <th>5304</th>\n",
       "      <td>104.426521</td>\n",
       "    </tr>\n",
       "    <tr>\n",
       "      <th>5305</th>\n",
       "      <td>11.532001</td>\n",
       "    </tr>\n",
       "  </tbody>\n",
       "</table>\n",
       "<p>5306 rows × 1 columns</p>\n",
       "</div>"
      ],
      "text/plain": [
       "      puppi_MetNoMu\n",
       "0         30.955175\n",
       "1         74.999069\n",
       "2         11.730311\n",
       "3         22.371643\n",
       "4         29.721386\n",
       "...             ...\n",
       "5301      58.730568\n",
       "5302      50.574310\n",
       "5303      62.798317\n",
       "5304     104.426521\n",
       "5305      11.532001\n",
       "\n",
       "[5306 rows x 1 columns]"
      ]
     },
     "execution_count": 14,
     "metadata": {},
     "output_type": "execute_result"
    }
   ],
   "source": [
    "puppi"
   ]
  },
  {
   "cell_type": "markdown",
   "id": "d506e836-221f-456b-88e3-3e6bfe21948e",
   "metadata": {},
   "source": [
    "# 2. Optimisation"
   ]
  },
  {
   "cell_type": "code",
   "execution_count": 84,
   "id": "4bd07cc0",
   "metadata": {},
   "outputs": [],
   "source": [
    "def calcTurnOn(MET, puppi, threshold = 80, lowEff = 0.05):\n",
    "\n",
    "    offline_bins = np.linspace(0, 300, 31)\n",
    "\n",
    "    foundEffLow = False\n",
    "    eff_before = 0\n",
    "\n",
    "    x_cross_high = 300\n",
    "    x_cross_low = 0\n",
    "\n",
    "    for i in range(len(offline_bins) - 1):\n",
    "        offline_range = (puppi >= offline_bins[i]) & (puppi < offline_bins[i + 1])\n",
    "        num_offline = sum(offline_range)\n",
    "        num_both = sum( (MET > threshold) & offline_range )\n",
    "        eff = num_both / num_offline if num_offline > 0 else 0\n",
    "        \n",
    "        if eff >= lowEff and not foundEffLow:\n",
    "            if i > 0:\n",
    "                x_cross_low = offline_bins[i-1] + ((lowEff - eff_before) / (eff - eff_before)) * (offline_bins[i] - offline_bins[i-1])\n",
    "            else:\n",
    "                x_cross_low = offline_bins[i]\n",
    "            foundEffLow = True\n",
    "\n",
    "        if eff >= 1.0 - lowEff:\n",
    "            x_cross_high = offline_bins[i-1] + (((1.0 - lowEff) - eff_before) / (eff - eff_before)) * (offline_bins[i] - offline_bins[i-1])\n",
    "            break\n",
    "\n",
    "        eff_before = eff\n",
    "\n",
    "    print(\"Turn on width: {}\".format(np.round(x_cross_high - x_cross_low, 2)))\n",
    "    return(x_cross_high - x_cross_low)"
   ]
  },
  {
   "cell_type": "code",
   "execution_count": null,
   "id": "23c803b8",
   "metadata": {},
   "outputs": [],
   "source": [
    "def calcRMSE(MET, puppi):\n",
    "    error = MET - puppi\n",
    "    rmse = np.sqrt(np.mean(error**2))\n",
    "    print(\"RMSE: {}\".format(np.round(rmse, 2)))\n",
    "    return rmse"
   ]
  },
  {
   "cell_type": "code",
   "execution_count": 86,
   "id": "01a3fddc",
   "metadata": {},
   "outputs": [],
   "source": [
    "def objective(params, *args):\n",
    "    a, b, c, d = params\n",
    "    calo, puppi, _ = args[0]\n",
    "    turn_on, threshold, lowEff = args[1]\n",
    "    print(\"\\nCurrently trying: a = {}, b = {}, c = {} and d = {}\".format(np.round(a,2), np.round(b,2), np.round(c,2), np.round(d,2)))\n",
    "    MET, _ = opt.applyCaloTowerThresh(calo, a, b, c, d)\n",
    "    \n",
    "    res = calcTurnOn(MET=MET, puppi=puppi, threshold=threshold, lowEff=lowEff) if turn_on == True else calcRMSE(MET=MET, puppi=puppi)\n",
    "    print(\"{var}: {val}\".format(var = \"Width\" if turn_on==True else \"RMSE\", val = res))\n",
    "    \n",
    "    return res"
   ]
  },
  {
   "cell_type": "code",
   "execution_count": 87,
   "id": "e3ab37a5-7818-49d4-a5a4-d04556013178",
   "metadata": {
    "scrolled": true
   },
   "outputs": [
    {
     "name": "stdout",
     "output_type": "stream",
     "text": [
      "Starting optimisation\n",
      "\n",
      "Currently trying: a = 2.0, b = 2.0, c = 0.5 and d = 2.0\n",
      "\n",
      "Currently trying: a = 0.49, b = 0.56, c = 0.43 and d = 3.22\n",
      "\n",
      "Currently trying: a = 2.75, b = 0.36, c = 2.73 and d = 0.42\n",
      "\n",
      "Currently trying: a = 1.35, b = 1.96, c = 2.25 and d = 1.76\n",
      "\n",
      "Currently trying: a = 1.52, b = 0.92, c = 2.05 and d = 3.54\n",
      "\n",
      "Currently trying: a = 0.3, b = 1.26, c = 2.91 and d = 2.14\n",
      "\n",
      "Currently trying: a = 2.56, b = 1.59, c = 0.63 and d = 1.5\n",
      "\n",
      "Currently trying: a = 0.78, b = 0.22, c = 1.16 and d = 0.84\n",
      "Turn on width: 104.71\n",
      "\n",
      "Currently trying: a = 1.05, b = 2.15, c = 2.4 and d = 1.07\n",
      "Turn on width: 113.15\n",
      "\n",
      "Currently trying: a = 2.27, b = 3.53, c = 1.81 and d = 0.73\n"
     ]
    },
    {
     "name": "stderr",
     "output_type": "stream",
     "text": [
      "Process ForkPoolWorker-10:\n",
      "Traceback (most recent call last):\n",
      "  File \"/software/wq22321/miniconda/lib/python3.9/multiprocessing/process.py\", line 315, in _bootstrap\n",
      "    self.run()\n",
      "  File \"/software/wq22321/miniconda/lib/python3.9/multiprocessing/process.py\", line 108, in run\n",
      "    self._target(*self._args, **self._kwargs)\n",
      "  File \"/software/wq22321/miniconda/lib/python3.9/multiprocessing/pool.py\", line 125, in worker\n",
      "    result = (True, func(*args, **kwds))\n",
      "  File \"/software/wq22321/miniconda/lib/python3.9/multiprocessing/pool.py\", line 48, in mapstar\n",
      "    return list(map(*args))\n",
      "  File \"/users/wq22321/methackathon_2024/.venv/lib/python3.9/site-packages/scipy/_lib/_util.py\", line 426, in __call__\n",
      "    return self.f(x, *self.args)\n",
      "  File \"/tmp/ipykernel_2805634/4100398833.py\", line 6, in objective\n",
      "    MET, _ = opt.applyCaloTowerThresh(calo, a, b, c, d)\n",
      "  File \"/users/wq22321/methackathon_2024/optimisation.py\", line 51, in applyCaloTowerThresh\n",
      "    compntt = compNTT4(caloTowersPUsup)\n",
      "  File \"/users/wq22321/methackathon_2024/packages/functions.py\", line 138, in compNTT4\n",
      "    df = caloTowers[(caloTowers[\"ieta\"]>= -4) & (caloTowers[\"ieta\"] <= 4)]\n",
      "  File \"/users/wq22321/methackathon_2024/.venv/lib/python3.9/site-packages/pandas/core/frame.py\", line 3884, in __getitem__\n",
      "    return self._getitem_bool_array(key)\n",
      "  File \"/users/wq22321/methackathon_2024/.venv/lib/python3.9/site-packages/pandas/core/frame.py\", line 3946, in _getitem_bool_array\n",
      "    return self._take_with_is_copy(indexer, axis=0)\n",
      "  File \"/users/wq22321/methackathon_2024/.venv/lib/python3.9/site-packages/pandas/core/generic.py\", line 4088, in _take_with_is_copy\n",
      "    result = self.take(indices=indices, axis=axis)\n",
      "  File \"/users/wq22321/methackathon_2024/.venv/lib/python3.9/site-packages/pandas/core/generic.py\", line 4068, in take\n",
      "    new_data = self._mgr.take(\n",
      "  File \"/users/wq22321/methackathon_2024/.venv/lib/python3.9/site-packages/pandas/core/internals/managers.py\", line 877, in take\n",
      "    return self.reindex_indexer(\n",
      "  File \"/users/wq22321/methackathon_2024/.venv/lib/python3.9/site-packages/pandas/core/internals/managers.py\", line 670, in reindex_indexer\n",
      "    new_blocks = [\n",
      "  File \"/users/wq22321/methackathon_2024/.venv/lib/python3.9/site-packages/pandas/core/internals/managers.py\", line 671, in <listcomp>\n",
      "    blk.take_nd(\n",
      "  File \"/users/wq22321/methackathon_2024/.venv/lib/python3.9/site-packages/pandas/core/internals/blocks.py\", line 1061, in take_nd\n",
      "    new_values = algos.take_nd(\n",
      "  File \"/users/wq22321/methackathon_2024/.venv/lib/python3.9/site-packages/pandas/core/array_algos/take.py\", line 118, in take_nd\n",
      "    return _take_nd_ndarray(arr, indexer, axis, fill_value, allow_fill)\n",
      "  File \"/users/wq22321/methackathon_2024/.venv/lib/python3.9/site-packages/pandas/core/array_algos/take.py\", line 163, in _take_nd_ndarray\n",
      "    func(arr, indexer, out, fill_value)\n",
      "KeyboardInterrupt\n",
      "Process ForkPoolWorker-11:\n",
      "Traceback (most recent call last):\n",
      "  File \"/software/wq22321/miniconda/lib/python3.9/multiprocessing/process.py\", line 315, in _bootstrap\n",
      "    self.run()\n",
      "  File \"/software/wq22321/miniconda/lib/python3.9/multiprocessing/process.py\", line 108, in run\n",
      "    self._target(*self._args, **self._kwargs)\n",
      "  File \"/software/wq22321/miniconda/lib/python3.9/multiprocessing/pool.py\", line 125, in worker\n",
      "    result = (True, func(*args, **kwds))\n",
      "  File \"/software/wq22321/miniconda/lib/python3.9/multiprocessing/pool.py\", line 48, in mapstar\n",
      "    return list(map(*args))\n",
      "  File \"/users/wq22321/methackathon_2024/.venv/lib/python3.9/site-packages/scipy/_lib/_util.py\", line 426, in __call__\n",
      "    return self.f(x, *self.args)\n",
      "  File \"/tmp/ipykernel_2805634/4100398833.py\", line 6, in objective\n",
      "    MET, _ = opt.applyCaloTowerThresh(calo, a, b, c, d)\n",
      "  File \"/users/wq22321/methackathon_2024/optimisation.py\", line 67, in applyCaloTowerThresh\n",
      "    return calcL1MET(MET), MET.astype(int)\n",
      "  File \"/users/wq22321/methackathon_2024/packages/functions.py\", line 163, in calcL1MET\n",
      "    caloTowers = caloTowers.groupby(['event']).sum()\n",
      "  File \"/users/wq22321/methackathon_2024/.venv/lib/python3.9/site-packages/pandas/core/groupby/groupby.py\", line 3063, in sum\n",
      "    result = self._agg_general(\n",
      "  File \"/users/wq22321/methackathon_2024/.venv/lib/python3.9/site-packages/pandas/core/groupby/groupby.py\", line 1839, in _agg_general\n",
      "    result = self._cython_agg_general(\n",
      "  File \"/users/wq22321/methackathon_2024/.venv/lib/python3.9/site-packages/pandas/core/groupby/groupby.py\", line 1929, in _cython_agg_general\n",
      "    new_mgr = data.grouped_reduce(array_func)\n",
      "  File \"/users/wq22321/methackathon_2024/.venv/lib/python3.9/site-packages/pandas/core/internals/managers.py\", line 1431, in grouped_reduce\n",
      "    applied = blk.apply(func)\n",
      "  File \"/users/wq22321/methackathon_2024/.venv/lib/python3.9/site-packages/pandas/core/internals/blocks.py\", line 366, in apply\n",
      "    result = func(self.values, **kwargs)\n",
      "  File \"/users/wq22321/methackathon_2024/.venv/lib/python3.9/site-packages/pandas/core/groupby/groupby.py\", line 1905, in array_func\n",
      "    result = self.grouper._cython_operation(\n",
      "  File \"/users/wq22321/methackathon_2024/.venv/lib/python3.9/site-packages/pandas/core/groupby/ops.py\", line 812, in _cython_operation\n",
      "    cy_op = WrappedCythonOp(kind=kind, how=how, has_dropped_na=self.has_dropped_na)\n",
      "  File \"properties.pyx\", line 36, in pandas._libs.properties.CachedProperty.__get__\n",
      "  File \"/users/wq22321/methackathon_2024/.venv/lib/python3.9/site-packages/pandas/core/groupby/ops.py\", line 726, in has_dropped_na\n",
      "    return bool((self.group_info[0] < 0).any())\n",
      "KeyboardInterrupt\n",
      "Process ForkPoolWorker-14:\n",
      "Process ForkPoolWorker-15:\n",
      "Process ForkPoolWorker-9:\n",
      "Process ForkPoolWorker-13:\n",
      "Traceback (most recent call last):\n",
      "  File \"/software/wq22321/miniconda/lib/python3.9/multiprocessing/process.py\", line 315, in _bootstrap\n",
      "    self.run()\n",
      "  File \"/software/wq22321/miniconda/lib/python3.9/multiprocessing/process.py\", line 108, in run\n",
      "    self._target(*self._args, **self._kwargs)\n",
      "  File \"/software/wq22321/miniconda/lib/python3.9/multiprocessing/pool.py\", line 125, in worker\n",
      "    result = (True, func(*args, **kwds))\n",
      "  File \"/software/wq22321/miniconda/lib/python3.9/multiprocessing/pool.py\", line 48, in mapstar\n",
      "    return list(map(*args))\n",
      "  File \"/users/wq22321/methackathon_2024/.venv/lib/python3.9/site-packages/scipy/_lib/_util.py\", line 426, in __call__\n",
      "    return self.f(x, *self.args)\n",
      "  File \"/tmp/ipykernel_2805634/4100398833.py\", line 6, in objective\n",
      "    MET, _ = opt.applyCaloTowerThresh(calo, a, b, c, d)\n",
      "  File \"/users/wq22321/methackathon_2024/optimisation.py\", line 67, in applyCaloTowerThresh\n",
      "    return calcL1MET(MET), MET.astype(int)\n",
      "  File \"/users/wq22321/methackathon_2024/packages/functions.py\", line 156, in calcL1MET\n",
      "    caloTowers[:,1] = caloTowers[:,1] * ((2*np.pi)/72)     # convert iphi into radians\n",
      "KeyboardInterrupt\n",
      "Traceback (most recent call last):\n",
      "  File \"/software/wq22321/miniconda/lib/python3.9/multiprocessing/process.py\", line 315, in _bootstrap\n",
      "    self.run()\n",
      "  File \"/software/wq22321/miniconda/lib/python3.9/multiprocessing/process.py\", line 108, in run\n",
      "    self._target(*self._args, **self._kwargs)\n",
      "Process ForkPoolWorker-16:\n",
      "Traceback (most recent call last):\n",
      "  File \"/software/wq22321/miniconda/lib/python3.9/multiprocessing/process.py\", line 315, in _bootstrap\n",
      "    self.run()\n",
      "Traceback (most recent call last):\n",
      "  File \"/software/wq22321/miniconda/lib/python3.9/multiprocessing/process.py\", line 315, in _bootstrap\n",
      "    self.run()\n",
      "  File \"/software/wq22321/miniconda/lib/python3.9/multiprocessing/pool.py\", line 125, in worker\n",
      "    result = (True, func(*args, **kwds))\n",
      "  File \"/software/wq22321/miniconda/lib/python3.9/multiprocessing/process.py\", line 108, in run\n",
      "    self._target(*self._args, **self._kwargs)\n",
      "  File \"/software/wq22321/miniconda/lib/python3.9/multiprocessing/pool.py\", line 125, in worker\n",
      "    result = (True, func(*args, **kwds))\n",
      "  File \"/software/wq22321/miniconda/lib/python3.9/multiprocessing/process.py\", line 108, in run\n",
      "    self._target(*self._args, **self._kwargs)\n",
      "  File \"/software/wq22321/miniconda/lib/python3.9/multiprocessing/pool.py\", line 125, in worker\n",
      "    result = (True, func(*args, **kwds))\n",
      "  File \"/software/wq22321/miniconda/lib/python3.9/multiprocessing/pool.py\", line 48, in mapstar\n",
      "    return list(map(*args))\n",
      "  File \"/software/wq22321/miniconda/lib/python3.9/multiprocessing/pool.py\", line 48, in mapstar\n",
      "    return list(map(*args))\n",
      "  File \"/users/wq22321/methackathon_2024/.venv/lib/python3.9/site-packages/scipy/_lib/_util.py\", line 426, in __call__\n",
      "    return self.f(x, *self.args)\n",
      "  File \"/tmp/ipykernel_2805634/4100398833.py\", line 6, in objective\n",
      "    MET, _ = opt.applyCaloTowerThresh(calo, a, b, c, d)\n",
      "  File \"/users/wq22321/methackathon_2024/optimisation.py\", line 63, in applyCaloTowerThresh\n",
      "    towers_list = pool.map(process_ieta, ietas)\n",
      "Traceback (most recent call last):\n",
      "  File \"/users/wq22321/methackathon_2024/.venv/lib/python3.9/site-packages/scipy/_lib/_util.py\", line 426, in __call__\n",
      "    return self.f(x, *self.args)\n",
      "  File \"/software/wq22321/miniconda/lib/python3.9/multiprocessing/pool.py\", line 364, in map\n",
      "    return self._map_async(func, iterable, mapstar, chunksize).get()\n",
      "  File \"/software/wq22321/miniconda/lib/python3.9/multiprocessing/pool.py\", line 48, in mapstar\n",
      "    return list(map(*args))\n",
      "  File \"/users/wq22321/methackathon_2024/.venv/lib/python3.9/site-packages/scipy/_lib/_util.py\", line 426, in __call__\n",
      "    return self.f(x, *self.args)\n",
      "  File \"/software/wq22321/miniconda/lib/python3.9/multiprocessing/pool.py\", line 765, in get\n",
      "    self.wait(timeout)\n",
      "  File \"/tmp/ipykernel_2805634/4100398833.py\", line 6, in objective\n",
      "    MET, _ = opt.applyCaloTowerThresh(calo, a, b, c, d)\n",
      "  File \"/users/wq22321/methackathon_2024/optimisation.py\", line 63, in applyCaloTowerThresh\n",
      "    towers_list = pool.map(process_ieta, ietas)\n",
      "Process ForkPoolWorker-12:\n",
      "Traceback (most recent call last):\n",
      "  File \"/software/wq22321/miniconda/lib/python3.9/multiprocessing/process.py\", line 315, in _bootstrap\n",
      "    self.run()\n",
      "  File \"/software/wq22321/miniconda/lib/python3.9/multiprocessing/process.py\", line 108, in run\n",
      "    self._target(*self._args, **self._kwargs)\n",
      "  File \"/software/wq22321/miniconda/lib/python3.9/multiprocessing/pool.py\", line 125, in worker\n",
      "    result = (True, func(*args, **kwds))\n",
      "  File \"/software/wq22321/miniconda/lib/python3.9/multiprocessing/pool.py\", line 48, in mapstar\n",
      "    return list(map(*args))\n",
      "  File \"/users/wq22321/methackathon_2024/.venv/lib/python3.9/site-packages/scipy/_lib/_util.py\", line 426, in __call__\n",
      "    return self.f(x, *self.args)\n",
      "  File \"/tmp/ipykernel_2805634/4100398833.py\", line 6, in objective\n",
      "    MET, _ = opt.applyCaloTowerThresh(calo, a, b, c, d)\n",
      "  File \"/users/wq22321/methackathon_2024/optimisation.py\", line 67, in applyCaloTowerThresh\n",
      "    return calcL1MET(MET), MET.astype(int)\n",
      "  File \"/users/wq22321/methackathon_2024/packages/functions.py\", line 161, in calcL1MET\n",
      "    caloTowers = np.c_[ caloTowers, ietx, iety ]\n",
      "  File \"/users/wq22321/methackathon_2024/.venv/lib/python3.9/site-packages/numpy/lib/index_tricks.py\", line 412, in __getitem__\n",
      "    res = self.concatenate(tuple(objs), axis=axis)\n",
      "  File \"<__array_function__ internals>\", line 180, in concatenate\n",
      "KeyboardInterrupt\n",
      "  File \"/software/wq22321/miniconda/lib/python3.9/multiprocessing/pool.py\", line 762, in wait\n",
      "    self._event.wait(timeout)\n",
      "  File \"/software/wq22321/miniconda/lib/python3.9/multiprocessing/pool.py\", line 364, in map\n",
      "    return self._map_async(func, iterable, mapstar, chunksize).get()\n",
      "  File \"/software/wq22321/miniconda/lib/python3.9/multiprocessing/pool.py\", line 765, in get\n",
      "    self.wait(timeout)\n",
      "  File \"/tmp/ipykernel_2805634/4100398833.py\", line 6, in objective\n",
      "    MET, _ = opt.applyCaloTowerThresh(calo, a, b, c, d)\n",
      "  File \"/users/wq22321/methackathon_2024/optimisation.py\", line 63, in applyCaloTowerThresh\n",
      "    towers_list = pool.map(process_ieta, ietas)\n",
      "  File \"/software/wq22321/miniconda/lib/python3.9/multiprocessing/pool.py\", line 364, in map\n",
      "    return self._map_async(func, iterable, mapstar, chunksize).get()\n",
      "  File \"/software/wq22321/miniconda/lib/python3.9/multiprocessing/pool.py\", line 765, in get\n",
      "    self.wait(timeout)\n",
      "  File \"/software/wq22321/miniconda/lib/python3.9/multiprocessing/process.py\", line 315, in _bootstrap\n",
      "    self.run()\n",
      "  File \"/software/wq22321/miniconda/lib/python3.9/multiprocessing/pool.py\", line 762, in wait\n",
      "    self._event.wait(timeout)\n",
      "  File \"/software/wq22321/miniconda/lib/python3.9/threading.py\", line 312, in wait\n",
      "    waiter.acquire()\n",
      "  File \"/software/wq22321/miniconda/lib/python3.9/multiprocessing/pool.py\", line 762, in wait\n",
      "    self._event.wait(timeout)\n",
      "  File \"/software/wq22321/miniconda/lib/python3.9/threading.py\", line 574, in wait\n",
      "    signaled = self._cond.wait(timeout)\n",
      "  File \"/software/wq22321/miniconda/lib/python3.9/threading.py\", line 574, in wait\n",
      "    signaled = self._cond.wait(timeout)\n",
      "  File \"/software/wq22321/miniconda/lib/python3.9/multiprocessing/process.py\", line 108, in run\n",
      "    self._target(*self._args, **self._kwargs)\n",
      "  File \"/software/wq22321/miniconda/lib/python3.9/threading.py\", line 312, in wait\n",
      "    waiter.acquire()\n",
      "KeyboardInterrupt\n",
      "KeyboardInterrupt\n",
      "  File \"/software/wq22321/miniconda/lib/python3.9/multiprocessing/pool.py\", line 125, in worker\n",
      "    result = (True, func(*args, **kwds))\n",
      "  File \"/software/wq22321/miniconda/lib/python3.9/threading.py\", line 574, in wait\n",
      "    signaled = self._cond.wait(timeout)\n",
      "  File \"/software/wq22321/miniconda/lib/python3.9/threading.py\", line 312, in wait\n",
      "    waiter.acquire()\n",
      "  File \"/software/wq22321/miniconda/lib/python3.9/multiprocessing/pool.py\", line 48, in mapstar\n",
      "    return list(map(*args))\n",
      "  File \"/users/wq22321/methackathon_2024/.venv/lib/python3.9/site-packages/scipy/_lib/_util.py\", line 426, in __call__\n",
      "    return self.f(x, *self.args)\n",
      "KeyboardInterrupt\n",
      "  File \"/tmp/ipykernel_2805634/4100398833.py\", line 6, in objective\n",
      "    MET, _ = opt.applyCaloTowerThresh(calo, a, b, c, d)\n",
      "  File \"/users/wq22321/methackathon_2024/optimisation.py\", line 63, in applyCaloTowerThresh\n",
      "    towers_list = pool.map(process_ieta, ietas)\n"
     ]
    }
   ],
   "source": [
    "print(\"Starting optimisation\")\n",
    "\n",
    "bounds = [(0, 3), (0, 4), (0, 3), (0, 4)]\n",
    "x0 = (2.0, 2.0, 0.5, 2.0)\n",
    "turn_on_options = (True, 60, 0.1)\n",
    "result = differential_evolution(\n",
    "    func     = objective,\n",
    "    bounds   = bounds,\n",
    "    args     = (fit, turn_on_options),\n",
    "    \n",
    "    x0 = x0,\n",
    "    popsize  = 15,    # 15\n",
    "    maxiter  = 10,    # 1000\n",
    "    strategy = \"best1bin\",    # \"best1bin\"\n",
    "    init     = \"sobol\",    #\"latinhypercube\"\n",
    "    disp     = True,\n",
    "    workers  = 8,    # 1\n",
    "    polish   = False\n",
    "    )\n",
    "\n",
    "print(result.x)\n",
    "print(result)"
   ]
  },
  {
   "cell_type": "code",
   "execution_count": null,
   "id": "6211b389",
   "metadata": {},
   "outputs": [],
   "source": [
    "result.x"
   ]
  },
  {
   "cell_type": "markdown",
   "id": "e1fd64be-2dda-42d8-9a86-b7300f1dd59c",
   "metadata": {},
   "source": [
    "# 3. Parameter analysis"
   ]
  },
  {
   "cell_type": "code",
   "execution_count": 8,
   "id": "9c6693fb-468c-4d09-91f9-2e533853d4c7",
   "metadata": {},
   "outputs": [],
   "source": [
    "def heatmapper(a, b, c, d):\n",
    "    dat = lookup_gen(a, b, c, d)\n",
    "    ietas, pu_bins, thresh = zip(*dat)\n",
    "    plt.figure(figsize=(15,9))\n",
    "    plt.hist2d(ietas, pu_bins, weights=thresh, bins=[83, 32])\n",
    "    plt.colorbar()\n",
    "    #plt.xlim([1,41]); plt.ylim([0,31])\n",
    "    plt.xlabel(\"ieta\"); plt.ylabel(\"NTT4 bin\")\n",
    "    plt.title(\"2D histogram of tower threshold (scaled by tower size)\")\n",
    "    plt.show()"
   ]
  },
  {
   "cell_type": "code",
   "execution_count": 9,
   "id": "f22a3277-9f2c-4915-9d9e-77ab0dafed51",
   "metadata": {},
   "outputs": [],
   "source": [
    "def lookup_gen(a, b, c, d):\n",
    "    \n",
    "    all_ieta_vals = np.linspace(-41, 41, 83)\n",
    "    all_pu_bins = np.linspace(0, 31, 32)\n",
    "    \n",
    "    res = []\n",
    "    for ieta in all_ieta_vals:\n",
    "        for pu_bin in all_pu_bins:\n",
    "            thresh = threshold_calc(ieta, pu_bin, a, b, c, d)\n",
    "            res.append((ieta, pu_bin, thresh))\n",
    "            \n",
    "    return res"
   ]
  },
  {
   "cell_type": "code",
   "execution_count": 10,
   "id": "3e0e57a5-99e6-43b1-9bb4-ac66b6e21bc6",
   "metadata": {},
   "outputs": [],
   "source": [
    "def threshold_calc(ieta, ntt4, a, b, c, d):\n",
    "    towerAreas = [    0., # dummy for ieta=0\n",
    "                  1.,1.,1.,1.,1.,1.,1.,1.,1.,1.,\n",
    "                  1.,1.,1.,1.,1.,1.,1.,1.,1.,1.,\n",
    "                  1.03,1.15,1.3,1.48,1.72,2.05,1.72,4.02,\n",
    "                  0., # dummy for ieta=29\n",
    "                  3.29,2.01,2.02,2.01,2.02,2.0,2.03,1.99,2.02,2.04,2.00,3.47]\n",
    "    \n",
    "    numerator = (towerAreas[int(abs(ieta))]**a) * (ntt4**c)\n",
    "    denominator = d * (1 + np.exp(-b * (abs(ieta))))\n",
    "    \n",
    "    threshold = (numerator / denominator).clip(max=40)\n",
    "#    return (threshold/2)# / towerAreas[int(abs(ieta))]\n",
    "    if towerAreas[int(abs(ieta))] == 0:\n",
    "        return np.nan\n",
    "    else:\n",
    "        return (threshold/2)# / towerAreas[int(abs(ieta))]"
   ]
  },
  {
   "cell_type": "code",
   "execution_count": 46,
   "id": "a176dacc-5343-4e0f-b918-3823caa6fe54",
   "metadata": {},
   "outputs": [],
   "source": [
    "fw = (0.66881105, 1.77791976, 0.96226907, 2.08912586)\n",
    "reg = (0.21456065, 2.74961211, 0.47896413, 0.30650943)\n",
    "old = (1.707, 3.078, 0.195, 1.365)\n",
    "\n",
    "quick = (2.49418849, 3.06860578, 0.22999811, 3.75036927)\n",
    "quick2 = (0.4785183 , 2.95870881, 0.19865517, 1.69915227)\n",
    "\n",
    "zmu23_1 = (1.87, 1.34, 0.1, 2.84)\n",
    "zmu23_2 = (1.49, 2.91, 0.26, 1.51)\n",
    "zmu23_3 = (2.34, 2.82, 0.37, 2.79)\n",
    "\n",
    "\n",
    "rmse = (1.69851912, 2.511431, 0.31321421, 3.70933707)\n",
    "turnon = (1.54119447, 2.76036528, 0.5173701, 1.42313447)"
   ]
  },
  {
   "cell_type": "code",
   "execution_count": 12,
   "id": "9027b56a-fdf9-4b4b-8534-8baa4ea4f1ed",
   "metadata": {},
   "outputs": [
    {
     "data": {
      "image/png": "[encoded data removed]",
      "text/plain": [
       "<Figure size 1500x900 with 2 Axes>"
      ]
     },
     "metadata": {},
     "output_type": "display_data"
    }
   ],
   "source": [
    "heatmapper(*rmse)"
   ]
  },
  {
   "cell_type": "code",
   "execution_count": 13,
   "id": "d1ed5f42",
   "metadata": {},
   "outputs": [
    {
     "data": {
      "image/png": "[encoded data removed]",
      "text/plain": [
       "<Figure size 1500x900 with 2 Axes>"
      ]
     },
     "metadata": {},
     "output_type": "display_data"
    }
   ],
   "source": [
    "heatmapper(*turnon)"
   ]
  },
  {
   "cell_type": "code",
   "execution_count": 28,
   "id": "6ce50c79-8192-4844-a4e2-9ca885523588",
   "metadata": {},
   "outputs": [],
   "source": [
    "rmse_MET = opt.applyCaloTowerThresh(calo, *rmse)[0]"
   ]
  },
  {
   "cell_type": "code",
   "execution_count": 49,
   "id": "19fb342e",
   "metadata": {},
   "outputs": [],
   "source": [
    "turnon_MET = opt.applyCaloTowerThresh(calo, *turnon)[0]"
   ]
  },
  {
   "cell_type": "code",
   "execution_count": 40,
   "id": "b7f8238b-6284-4629-89c7-47786f61913f",
   "metadata": {},
   "outputs": [],
   "source": [
    "def getTurnOn( online, offline, threshold=80 ) :\n",
    "    offline_bins = np.linspace(0, 300, 31)\n",
    "    efficiency = []\n",
    "\n",
    "    for i in range(len(offline_bins) - 1):\n",
    "        # Define the offline range for this bin\n",
    "        offline_range = (offline >= offline_bins[i]) & (offline < offline_bins[i + 1])\n",
    "        # count the number of events passing the threshold in the offline range\n",
    "        num_offline = sum(offline_range)\n",
    "        # count the number of events passing the threshold in both online and offline ranges\n",
    "        num_both = sum((online > threshold) & offline_range)\n",
    "        # calculate the efficiency as the ratio of online events passing the cut over offline events passing the threshold\n",
    "        if num_offline > 0:\n",
    "            eff = num_both / num_offline\n",
    "        else:\n",
    "            eff = 0\n",
    "        efficiency.append(eff)\n",
    "\n",
    "    bin_centers = (offline_bins[:-1] + offline_bins[1:]) / 2\n",
    "\n",
    "    return bin_centers, efficiency"
   ]
  },
  {
   "cell_type": "code",
   "execution_count": 43,
   "id": "fc6e6556",
   "metadata": {},
   "outputs": [],
   "source": [
    "bins, eff = getTurnOn(rmse_MET, puppi, threshold=60)"
   ]
  },
  {
   "cell_type": "code",
   "execution_count": 53,
   "id": "3735166e",
   "metadata": {},
   "outputs": [],
   "source": [
    "bins2, eff2 = getTurnOn(rmse_MET, puppi, threshold=80)"
   ]
  },
  {
   "cell_type": "code",
   "execution_count": 50,
   "id": "50b49b06",
   "metadata": {},
   "outputs": [],
   "source": [
    "bins_to, eff_to = getTurnOn(turnon_MET, puppi, threshold=60)"
   ]
  },
  {
   "cell_type": "code",
   "execution_count": 51,
   "id": "35c1b4d5",
   "metadata": {},
   "outputs": [],
   "source": [
    "bins_l1, eff_l1 = getTurnOn(l1met, puppi, threshold=60)"
   ]
  },
  {
   "cell_type": "code",
   "execution_count": 55,
   "id": "d2ab3a8a-ae4e-4f92-934b-b99b216720e6",
   "metadata": {},
   "outputs": [
    {
     "data": {
      "image/png": "[encoded data removed]",
      "text/plain": [
       "<Figure size 1000x600 with 1 Axes>"
      ]
     },
     "metadata": {},
     "output_type": "display_data"
    }
   ],
   "source": [
    "plt.figure(figsize=(10,6))\n",
    "\n",
    "plt.plot(bins, eff, label = \"RMSE thresh 60\")\n",
    "plt.plot(bins2, eff2, label = \"RMSE thresh 80\")\n",
    "# plt.plot(bins_to, eff_to, label = \"Turn on\")\n",
    "# plt.plot(bins_l1, eff_l1, label = \"No PU sup\")\n",
    "\n",
    "\n",
    "plt.title(\"Turn on curve, threshold = 80 GeV\")\n",
    "plt.xlabel(\"Offline MET (GeV)\"); plt.ylabel(\"Fixed threshold efficiency\")\n",
    "plt.grid(True, linestyle='--', color='gray', alpha=0.5)\n",
    "plt.hlines(0.95, xmin=0, xmax=300, colors='gray', linestyles='--', alpha=0.5)\n",
    "plt.legend()\n",
    "plt.show()"
   ]
  }
 ],
 "metadata": {
  "kernelspec": {
   "display_name": "Python 3 (ipykernel)",
   "language": "python",
   "name": "python3"
  },
  "language_info": {
   "codemirror_mode": {
    "name": "ipython",
    "version": 3
   },
   "file_extension": ".py",
   "mimetype": "text/x-python",
   "name": "python",
   "nbconvert_exporter": "python",
   "pygments_lexer": "ipython3",
   "version": "3.9.12"
  }
 },
 "nbformat": 4,
 "nbformat_minor": 5
}
